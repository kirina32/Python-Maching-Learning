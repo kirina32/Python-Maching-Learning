{
 "cells": [
  {
   "cell_type": "code",
   "execution_count": 6,
   "id": "9d419034-6041-4244-a957-2e75e7995de0",
   "metadata": {},
   "outputs": [
    {
     "name": "stdout",
     "output_type": "stream",
     "text": [
      "Requirement already satisfied: cmake in ./opt/anaconda3/lib/python3.8/site-packages (3.21.1)\n",
      "Requirement already satisfied: dlib in ./opt/anaconda3/lib/python3.8/site-packages (19.22.0)\n",
      "Requirement already satisfied: face_recognition in ./opt/anaconda3/lib/python3.8/site-packages (1.3.0)\n",
      "Requirement already satisfied: numpy in ./opt/anaconda3/lib/python3.8/site-packages (from face_recognition) (1.20.1)\n",
      "Requirement already satisfied: Pillow in ./opt/anaconda3/lib/python3.8/site-packages (from face_recognition) (8.2.0)\n",
      "Requirement already satisfied: Click>=6.0 in ./opt/anaconda3/lib/python3.8/site-packages (from face_recognition) (7.1.2)\n",
      "Requirement already satisfied: dlib>=19.7 in ./opt/anaconda3/lib/python3.8/site-packages (from face_recognition) (19.22.0)\n",
      "Requirement already satisfied: face-recognition-models>=0.3.0 in ./opt/anaconda3/lib/python3.8/site-packages (from face_recognition) (0.3.0)\n"
     ]
    }
   ],
   "source": [
    "!pip install cmake\n",
    "!pip install dlib\n",
    "!pip install face_recognition\n",
    "\n",
    "import os"
   ]
  },
  {
   "cell_type": "markdown",
   "id": "daff2417-4a3e-4923-9ea1-43a242334025",
   "metadata": {},
   "source": [
    "사람의 사진을 단 한 장만 넣어주면, 동영상 내에서 그 사람의 얼굴만 검출하는 것을 만들어봤습니다. 저는 제 사진을 주고, 영상 내에서 제 얼굴만 검출되도록 예제를 만들어 봤습니다. face_recognition 라이브러리와 opencv-python 라이브러리를 활용했습니다. 또한 face_recognition 라이브러리를 설치하기 전에, dlib을 설치하였는데 gpu세팅을 따로 해주지 않았습니다.<br><br>\n",
    "\n",
    "특정 사람의 얼굴만 검출하는 프로그램의 알고리즘은 아래와 같습니다.\n",
    " - 입력해 준 사진 속에서 얼굴을 검출합니다.<br>\n",
    " - 그 얼굴에서 특성 벡터를 도출합니다.<br><br>\n",
    " \n",
    " - 웹캠으로 촬영되는 프레임 내 얼굴을 모두 검출합니다.<br>\n",
    " - 검출된 얼굴에서 특성 벡터를 도출합니다.<br><br>\n",
    " \n",
    " - 검출된 얼굴의 특성 벡터와 입력해 준 사진 속 얼굴의 특성 벡터가 서로 비슷한지 거리로 판단합니다.<br>\n",
    " - 비슷하다면(도출한 특성 간 거리가 가까우면), 그 사람의 얼굴이라고 판단하고 검출된 얼굴 주변에 빨간 박스를 그려줍니다 <br>"
   ]
  },
  {
   "cell_type": "code",
   "execution_count": null,
   "id": "f5d2a17e-ce83-4ea1-982e-3df10d6cd391",
   "metadata": {},
   "outputs": [
    {
     "name": "stdout",
     "output_type": "stream",
     "text": [
      "[-1.33859843e-01  9.84298438e-02  5.55847287e-02 -2.36537177e-02\n",
      " -4.57476601e-02 -2.80992985e-02 -1.84654370e-02 -9.27140415e-02\n",
      "  1.18476138e-01 -1.26641169e-01  1.94185495e-01 -8.99155289e-02\n",
      " -2.15813875e-01 -1.01910703e-01 -1.80970579e-02  1.80116594e-01\n",
      " -1.95827067e-01 -1.07511714e-01 -5.33360206e-02  1.10064223e-02\n",
      "  1.43980503e-01 -2.81653591e-02 -2.04345919e-02  3.02258357e-02\n",
      " -5.51578403e-02 -3.20436418e-01 -7.89341927e-02 -6.12371117e-02\n",
      "  3.37810777e-02 -2.03463137e-02 -8.22747126e-03  2.12935358e-03\n",
      " -1.95113286e-01 -5.10891080e-02 -4.00288701e-02  2.18387693e-04\n",
      " -1.56712309e-02 -7.30503649e-02  1.88645259e-01 -5.11382744e-02\n",
      " -2.19681889e-01 -2.00953782e-02  4.33793478e-02  1.94216147e-01\n",
      "  1.22042149e-01  6.15659840e-02  2.03926321e-02 -1.00240216e-01\n",
      "  1.10904545e-01 -1.97533995e-01 -1.12246070e-03  1.27963841e-01\n",
      "  1.00082308e-01  7.60797337e-02  7.58442283e-03 -1.60053566e-01\n",
      "  2.30107009e-02  5.66400811e-02 -7.05291107e-02  2.28480473e-02\n",
      "  5.69931976e-02 -7.38192126e-02 -5.38342819e-03 -8.94539729e-02\n",
      "  2.65504807e-01  2.30473392e-02 -1.23271331e-01 -1.44579872e-01\n",
      "  1.12523168e-01 -8.13352540e-02 -6.09411299e-02  5.85615784e-02\n",
      " -1.30300075e-01 -1.50872737e-01 -3.01735789e-01  3.17340344e-02\n",
      "  3.59352529e-01  8.32810923e-02 -1.85482442e-01  2.63371132e-02\n",
      " -1.11716516e-01  2.07181536e-02  1.30086347e-01  1.59359932e-01\n",
      " -1.41098909e-02  2.01532021e-02 -7.23699555e-02 -1.33834481e-02\n",
      "  2.09684342e-01 -9.32635963e-02 -5.33602871e-02  2.06706285e-01\n",
      "  1.89731680e-02  7.48156458e-02 -4.38638926e-02 -3.10961604e-02\n",
      " -2.93543488e-02  3.33151519e-02 -8.19191411e-02  2.38093361e-02\n",
      "  9.31540877e-02 -6.02570921e-03 -1.14632249e-02  1.15884796e-01\n",
      " -1.38911217e-01  9.52192396e-02  1.71644762e-02  6.65853769e-02\n",
      "  3.98372635e-02  2.14963853e-02 -1.54649109e-01 -4.91090864e-02\n",
      "  8.37314203e-02 -1.98944747e-01  1.98300824e-01  1.68119505e-01\n",
      "  4.35909145e-02  9.75040868e-02  1.42855972e-01  1.02644138e-01\n",
      "  4.55791503e-03  8.69634748e-03 -2.01140165e-01 -2.83159986e-02\n",
      "  1.71669796e-01  7.65122473e-03  6.43391907e-02  2.98202038e-04]\n"
     ]
    }
   ],
   "source": [
    "import cv2\n",
    "import face_recognition\n",
    " \n",
    "# 사전 학습할 이미지를 불러옵니다.\n",
    "image_to_be_matched = face_recognition.load_image_file('aa.jpeg')\n",
    "name = \"HaSeungJun\"\n",
    " \n",
    "# 로드된 벡터를 특징 벡터로 인코딩합니다.\n",
    "image_to_be_matched_encoded = face_recognition.face_encodings(image_to_be_matched)[0]\n",
    "print(image_to_be_matched_encoded)\n",
    " \n",
    "# 웹캠을 실행합니다.\n",
    "webcam = cv2.VideoCapture(0)\n",
    " \n",
    "# 웹캠 실행한다면 찾을수없다는 메세지와 꺼줍니다.\n",
    "if not webcam.isOpened():\n",
    "    print(\"Could not open webcam\")\n",
    "    exit()\n",
    " \n",
    "# loop through frames\n",
    "while webcam.isOpened():\n",
    " \n",
    "    # 웹캠으로 부터 프레임을 읽어 옵니다.\n",
    "    status, frame = webcam.read()\n",
    " \n",
    "    # 불러오지 못한다며 해당 경고 메세지를 출력합니다.\n",
    "    if not status:\n",
    "        print(\"Could not read frame\")\n",
    "        exit()\n",
    " \n",
    "    # face_locations = face_recognition.face_locations(frame) # HoG 기반 얼굴 검출기\n",
    "    # HOG란 History Of Gradient 의 약자 이미지 경계의 기울기 벡터 크기(magnitude)와 방향(direction)을 히스토그램으로 나타내 계산\n",
    "    face_locations = face_recognition.face_locations(frame, number_of_times_to_upsample=0, model=\"cnn\") # CNN 기반 얼굴 검출기\n",
    " \n",
    "    for face_location in face_locations:\n",
    " \n",
    "        # 해당하는 이미지의 각 면의 위치를 프린트합니다.\n",
    "        top, right, bottom, left = face_location\n",
    " \n",
    "        # 다음과 같이 실제 자신의 얼굴에 엑세스합니다.\n",
    "        face_image = frame[top:bottom, left:right]\n",
    " \n",
    "        try:\n",
    "            face_encoded = face_recognition.face_encodings(face_image)[0]\n",
    "            result = face_recognition.compare_faces([image_to_be_matched_encoded], face_encoded, 0.5)\n",
    " \n",
    "            if result[0] == True:\n",
    "                cv2.rectangle(frame, (left, top), (right, bottom), (0, 0, 255), 2)\n",
    "                Y = top - 10 if top - 10 > 10 else top + 10\n",
    "                text = name\n",
    "                cv2.putText(frame, text, (left, Y), cv2.FONT_HERSHEY_SIMPLEX, 0.7, (0, 0, 255), 2)\n",
    "        except:\n",
    "            pass\n",
    " \n",
    "    # 화면의 출력문입니다.\n",
    "    cv2.imshow(\"detect me\", frame)\n",
    " \n",
    "    # pQ를 누르면 종료됩니다.\n",
    "    if cv2.waitKey(1) & 0xFF == ord('q'):\n",
    "        break\n",
    " \n",
    "# release resources\n",
    "webcam.release()\n",
    "cv2.destroyAllWindows()\n"
   ]
  },
  {
   "cell_type": "code",
   "execution_count": null,
   "id": "394c804c-77bc-4ec3-8262-163aa523d540",
   "metadata": {},
   "outputs": [],
   "source": []
  },
  {
   "cell_type": "code",
   "execution_count": null,
   "id": "898a1749-6840-4a43-b7ea-06b15010f51b",
   "metadata": {},
   "outputs": [],
   "source": []
  }
 ],
 "metadata": {
  "kernelspec": {
   "display_name": "Python 3",
   "language": "python",
   "name": "python3"
  },
  "language_info": {
   "codemirror_mode": {
    "name": "ipython",
    "version": 3
   },
   "file_extension": ".py",
   "mimetype": "text/x-python",
   "name": "python",
   "nbconvert_exporter": "python",
   "pygments_lexer": "ipython3",
   "version": "3.8.8"
  }
 },
 "nbformat": 4,
 "nbformat_minor": 5
}
